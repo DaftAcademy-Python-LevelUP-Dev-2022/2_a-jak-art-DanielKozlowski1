{
 "cells": [
  {
   "cell_type": "code",
   "execution_count": 3,
   "metadata": {},
   "outputs": [
    {
     "name": "stdout",
     "output_type": "stream",
     "text": [
      "tutaj\n",
      "['c', 'o', 'm', 'p', 'a', 'n', 'y', '_', 'n', 'a', 'm', 'e', 'a', 'd', 'd', 'r', 'e', 's', 's', 'city_code', 'city', 'country']\n",
      "c dupa\n"
     ]
    },
    {
     "ename": "ValueError",
     "evalue": "",
     "output_type": "error",
     "traceback": [
      "\u001b[0;31m---------------------------------------------------------------------------\u001b[0m",
      "\u001b[0;31mValueError\u001b[0m                                Traceback (most recent call last)",
      "\u001b[1;32m/Users/danielkozlowski/Desktop/DAFT-dev/2_a-jak-art-DanielKozlowski1/test.ipynb Cell 1'\u001b[0m in \u001b[0;36m<cell line: 33>\u001b[0;34m()\u001b[0m\n\u001b[1;32m     <a href='vscode-notebook-cell:/Users/danielkozlowski/Desktop/DAFT-dev/2_a-jak-art-DanielKozlowski1/test.ipynb#ch0000000?line=33'>34</a>\u001b[0m \u001b[39mif\u001b[39;00m arg \u001b[39mnot\u001b[39;00m \u001b[39min\u001b[39;00m inp\u001b[39m.\u001b[39mkeys():\n\u001b[1;32m     <a href='vscode-notebook-cell:/Users/danielkozlowski/Desktop/DAFT-dev/2_a-jak-art-DanielKozlowski1/test.ipynb#ch0000000?line=34'>35</a>\u001b[0m     \u001b[39mprint\u001b[39m(arg, \u001b[39m\"\u001b[39m\u001b[39mdupa\u001b[39m\u001b[39m\"\u001b[39m)\n\u001b[0;32m---> <a href='vscode-notebook-cell:/Users/danielkozlowski/Desktop/DAFT-dev/2_a-jak-art-DanielKozlowski1/test.ipynb#ch0000000?line=35'>36</a>\u001b[0m     \u001b[39mraise\u001b[39;00m \u001b[39mValueError\u001b[39;00m\n\u001b[1;32m     <a href='vscode-notebook-cell:/Users/danielkozlowski/Desktop/DAFT-dev/2_a-jak-art-DanielKozlowski1/test.ipynb#ch0000000?line=36'>37</a>\u001b[0m \u001b[39mif\u001b[39;00m inp[arg] \u001b[39m==\u001b[39m \u001b[39m\"\u001b[39m\u001b[39m\"\u001b[39m:\n\u001b[1;32m     <a href='vscode-notebook-cell:/Users/danielkozlowski/Desktop/DAFT-dev/2_a-jak-art-DanielKozlowski1/test.ipynb#ch0000000?line=37'>38</a>\u001b[0m     new_dict[arg] \u001b[39m=\u001b[39m \u001b[39m\"\u001b[39m\u001b[39mEmpty value\u001b[39m\u001b[39m\"\u001b[39m\n",
      "\u001b[0;31mValueError\u001b[0m: "
     ]
    }
   ],
   "source": [
    "import itertools\n",
    "from typing import Dict\n",
    "\n",
    "\n",
    "required_keys = (\"company_name\", \"address\", \"city_code__city__country\")\n",
    "inp = {\n",
    "            \"country\": \"Poland\",\n",
    "            \"company_name\": \"DaftCode\",\n",
    "            \"address\": \"Pl. Europejski 1\",\n",
    "            \"city\": \"Warsaw\",\n",
    "            \"city_code\": \"00-844\",\n",
    "        }\n",
    "\n",
    "splitted_words = []\n",
    "after_split = []\n",
    "without_split = []\n",
    "for key in required_keys:\n",
    "    if \"__\" in key:\n",
    "        after_split.append(key.split(\"__\"))\n",
    "        splitted_words.append(key)\n",
    "    else:\n",
    "        without_split.append(key)\n",
    "\n",
    "if len(without_split) > 1:\n",
    "    prepared_args = list(itertools.chain(*without_split, *after_split))\n",
    "    print(without_split)\n",
    "else:\n",
    "    prepared_args = list(itertools.chain(without_split, *after_split))\n",
    "\n",
    "print(prepared_args)\n",
    "\n",
    "new_dict: Dict[str,str] = {}\n",
    "for arg in prepared_args:\n",
    "    if arg not in inp.keys():\n",
    "        print(arg, \"dupa\")\n",
    "        raise ValueError\n",
    "    if inp[arg] == \"\":\n",
    "        new_dict[arg] = \"Empty value\"\n",
    "    else:\n",
    "        new_dict[arg] = inp[arg]\n",
    "\n",
    "for i, list_x in enumerate(after_split):\n",
    "    new_string = \"\"\n",
    "    for element in list_x:\n",
    "        new_string = new_string + \" \" + inp[element]\n",
    "    new_dict[splitted_words[i]] = new_string.lstrip()\n",
    "\n",
    "for to_pop in list(itertools.chain(*after_split)):\n",
    "    if to_pop in new_dict.keys():\n",
    "        new_dict.pop(to_pop)\n",
    "\n",
    "print(new_dict)"
   ]
  },
  {
   "cell_type": "code",
   "execution_count": null,
   "metadata": {},
   "outputs": [],
   "source": []
  }
 ],
 "metadata": {
  "interpreter": {
   "hash": "49302c8ca2c1f7cac9acaad2ff3de709e632e7a901163a0587f8327931d4d1b4"
  },
  "kernelspec": {
   "display_name": "Python 3.10.3 64-bit ('3.10.3')",
   "language": "python",
   "name": "python3"
  },
  "language_info": {
   "codemirror_mode": {
    "name": "ipython",
    "version": 3
   },
   "file_extension": ".py",
   "mimetype": "text/x-python",
   "name": "python",
   "nbconvert_exporter": "python",
   "pygments_lexer": "ipython3",
   "version": "3.10.3"
  },
  "orig_nbformat": 4
 },
 "nbformat": 4,
 "nbformat_minor": 2
}
